{
 "cells": [
  {
   "metadata": {
    "ExecuteTime": {
     "end_time": "2024-12-17T19:51:26.577111Z",
     "start_time": "2024-12-17T19:51:26.574871Z"
    }
   },
   "cell_type": "code",
   "source": [
    "DATASET = \"swedish_tunes_int.csv\"\n",
    "DATASET_SIZE = 20000\n",
    "TRANSLATION_FILE = \"translation\"\n",
    "INPUT_SIZE = 5\n",
    "HIDDEN_NODES = 640\n",
    "NUM_LAYERS = 1\n",
    "SEED = 0\n",
    "LEARNING_RATE = 0.1"
   ],
   "id": "5a86137d439a39c5",
   "outputs": [],
   "execution_count": 55
  },
  {
   "metadata": {
    "ExecuteTime": {
     "end_time": "2024-12-17T18:38:33.192657Z",
     "start_time": "2024-12-17T18:38:33.189213Z"
    }
   },
   "cell_type": "code",
   "source": [
    "translation_p = open(TRANSLATION_FILE, 'r')\n",
    "translation_lines = translation_p.readlines()\n",
    "num_tokens = len(translation_lines)\n",
    "\n",
    "translation_p.close()\n",
    "num_tokens"
   ],
   "id": "9e0ce4d828bf1598",
   "outputs": [
    {
     "data": {
      "text/plain": [
       "1178"
      ]
     },
     "execution_count": 2,
     "metadata": {},
     "output_type": "execute_result"
    }
   ],
   "execution_count": 2
  },
  {
   "metadata": {
    "ExecuteTime": {
     "end_time": "2024-12-17T20:12:32.363020Z",
     "start_time": "2024-12-17T20:12:32.210367Z"
    }
   },
   "cell_type": "code",
   "source": [
    "import pandas\n",
    "from torch.nn import RNN, Linear, Softmax, Module\n",
    "import torch\n",
    "import math\n",
    "import tqdm\n",
    "import plotnine"
   ],
   "id": "74e516b3cc31beb",
   "outputs": [],
   "execution_count": 61
  },
  {
   "metadata": {
    "ExecuteTime": {
     "end_time": "2024-12-17T18:38:34.060204Z",
     "start_time": "2024-12-17T18:38:34.058501Z"
    }
   },
   "cell_type": "code",
   "source": [
    "# Class that creates the model that we'll use\n",
    "class PredictRNN(Module):\n",
    "    def __init__(self, input_size, hidden_size, num_layers, output_size):\n",
    "        super(PredictRNN, self).__init__()\n",
    "\n",
    "        self.rnn = RNN(input_size, hidden_size, num_layers=num_layers)\n",
    "        self.h2o = Linear(hidden_size, output_size)\n",
    "        self.softmax = Softmax(dim=0)\n",
    "\n",
    "    def forward(self, line_tensor):\n",
    "        rnn_out, hidden = self.rnn(line_tensor)\n",
    "        output = self.h2o(hidden[0])\n",
    "        output = self.softmax(output)\n",
    "        return output"
   ],
   "id": "bd30915ed2048d7f",
   "outputs": [],
   "execution_count": 4
  },
  {
   "metadata": {
    "ExecuteTime": {
     "end_time": "2024-12-17T18:38:34.124654Z",
     "start_time": "2024-12-17T18:38:34.102878Z"
    }
   },
   "cell_type": "code",
   "source": [
    "# Get min number of tokens in a line\n",
    "def trim_small_lines(filepath, input_size):\n",
    "    file_p = open(filepath, 'r')\n",
    "    lines = list(file_p.readlines())\n",
    "    for line in lines:\n",
    "        line_tok = line.split(',')\n",
    "        line_len = len(line_tok)\n",
    "        if line_len < input_size:\n",
    "            lines.remove(line)\n",
    "    file_p.close()\n",
    "    return lines\n",
    "\n",
    "trim_small_lines(DATASET, INPUT_SIZE)[:5]"
   ],
   "id": "24149e2b1065b9f9",
   "outputs": [
    {
     "data": {
      "text/plain": [
       "['0,1,2,3,4,5,3,6,3,5,3,7,5,5,5,8,5,3,5,4,7,3,4,5,3,6,3,5,3,7,5,5,5,8,9,10,11,12,13,14,13,7,5,5,5,15,15,3,16,3,7,12,13,14,13,7,5,5,5,8,9,17\\n',\n",
       " '0,1,2,18,19,20,21,22,6,7,23,3,15,23,12,7,6,6,22,24,25,3,12,26,7,27,22,22,21,18,7,13,23,15,27,28,7,29,19,22,23,12,30,31,32,12,12,7,6,20,29,19,33,29,19,20,7,18,19,20,21,22,6,7,23,3,15,23,12,17\\n',\n",
       " '0,1,2,22,6,23,15,13,18,7,33,29,19,22,34,7,6,6,22,3,15,3,16,13,35,7,24,12,6,23,6,20,7,22,6,23,15,13,18,7,33,29,19,22,34,30,19,36,37,15,6,19,33,7,38,39,39,29,33,7,40,33,29,19,26,38,7,12,20,29,41,17\\n',\n",
       " '0,1,2,24,4,25,13,3,25,7,3,5,8,23,9,7,6,6,29,4,8,25,5,3,3,3,3,7,8,25,5,15,3,6,6,6,7,8,25,5,3,25,3,3,3,7,3,5,8,23,9,30,12,12,31,32,7,12,42,43,7,24,4,25,13,3,25,7,3,5,8,23,9,17\\n',\n",
       " '0,1,2,44,45,23,15,7,46,47,48,47,12,7,6,20,49,50,51,46,52,46,50,46,7,6,25,15,3,7,46,47,48,5,8,7,47,52,50,53,24,30,54,45,3,20,7,3,20,19,20,7,44,45,23,15,7,46,47,48,47,12,17\\n']"
      ]
     },
     "execution_count": 5,
     "metadata": {},
     "output_type": "execute_result"
    }
   ],
   "execution_count": 5
  },
  {
   "metadata": {
    "ExecuteTime": {
     "end_time": "2024-12-17T20:01:37.202561Z",
     "start_time": "2024-12-17T20:01:37.199323Z"
    }
   },
   "cell_type": "code",
   "source": [
    "# calculates the accuracy of the predictions of a neural network\n",
    "# For classification tasks\n",
    "# NOTE: X and y should already be PyTorch tensors\n",
    "def calculate_accuracy(network, X, y):\n",
    "    if torch.cuda.is_available():\n",
    "        device = torch.device(\"cuda:0\")\n",
    "        X = X.to(device)\n",
    "        y = y.to(device)\n",
    "    # make predictions for the given X\n",
    "    predictions = []\n",
    "    # for X_vec in X:\n",
    "    #     prob = network(X_vec)\n",
    "    #     pred = torch.argmax(prob, dim=0)\n",
    "    #     print(pred)\n",
    "    #     predictions.append(pred)\n",
    "    # print(predictions)\n",
    "    probs = network(X)\n",
    "    predictions = torch.argmax(probs, dim=1)\n",
    "    # the calculate accuracy of those predictions\n",
    "    # correct = 0\n",
    "    total = len(predictions)\n",
    "    # for prediction, y_label in zip(predictions, y):\n",
    "    #     if prediction == y:\n",
    "    #         correct += 1\n",
    "\n",
    "    accuracy = float(sum(predictions == y) / total)\n",
    "    variance = accuracy * (1 - accuracy)\n",
    "    std_err = math.sqrt(variance / total)\n",
    "    up_bound = accuracy + 2.39 * std_err\n",
    "    low_bound = accuracy - 2.39 * std_err\n",
    "    return accuracy, up_bound, low_bound\n"
   ],
   "id": "b5670583c9f2e8e",
   "outputs": [],
   "execution_count": 58
  },
  {
   "metadata": {
    "ExecuteTime": {
     "end_time": "2024-12-17T18:38:34.212603Z",
     "start_time": "2024-12-17T18:38:34.210627Z"
    }
   },
   "cell_type": "code",
   "source": [
    "# converts a training set into smaller train and validation sets\n",
    "def create_validation(training_X, training_y, valid_percentage):\n",
    "    # find the split point between training and validation\n",
    "    training_n = training_X.shape[0]\n",
    "    valid_rows = int(valid_percentage * training_n)\n",
    "\n",
    "    # create the validation set\n",
    "    valid_X = training_X.iloc[:valid_rows]\n",
    "    valid_y = training_y.iloc[:valid_rows]\n",
    "\n",
    "    # create the (smaller) training set\n",
    "    train_X = training_X.iloc[valid_rows:]\n",
    "    train_y = training_y.iloc[valid_rows:]\n",
    "\n",
    "    return train_X, train_y, valid_X, valid_y\n"
   ],
   "id": "96dab109b9180c6d",
   "outputs": [],
   "execution_count": 7
  },
  {
   "metadata": {
    "ExecuteTime": {
     "end_time": "2024-12-17T19:49:14.308365Z",
     "start_time": "2024-12-17T19:49:14.302322Z"
    }
   },
   "cell_type": "code",
   "source": [
    "# trains a neural network with given training data\n",
    "def train_network(network, training_X, training_y, lr, nn_filepath):\n",
    "    # split the training data into train and validation\n",
    "    # Note: use 20% of the original training data for validation\n",
    "    # train_X, train_y, valid_X, valid_y = create_validation(training_X, training_y, 0.2)\n",
    "    # train_X_len = len(train_X)\n",
    "    # elements = len(train_X.columns)\n",
    "    # valid_X_len = len(valid_X)\n",
    "\n",
    "    # convert our data to PyTorch objects\n",
    "    train_X = torch.from_numpy(training_X.values).float().unsqueeze(0)\n",
    "    # train_X = train_X.reshape((train_X_len, 1, elements))\n",
    "    # train_X = train_X.transpose(0, 1)\n",
    "    train_y = torch.from_numpy(training_y.values).long()\n",
    "    # valid_X = torch.from_numpy(valid_X.values).float()\n",
    "    # valid_X = valid_X.transpose(0, 1)\n",
    "    # valid_X = valid_X.reshape((valid_X_len, 1, elements))\n",
    "    # valid_y = torch.from_numpy(valid_y.values).long()\n",
    "\n",
    "    # move the data and model to the GPU if possible\n",
    "    if torch.cuda.is_available():\n",
    "        device = torch.device('cuda:0')\n",
    "        print(f\"Using device {torch.cuda.get_device_name(device)}\")\n",
    "        train_X = train_X.to(device)\n",
    "        train_y = train_y.to(device)\n",
    "        # valid_X = valid_X.to(device)\n",
    "        # valid_y = valid_y.to(device)\n",
    "        network = network.to(device)\n",
    "\n",
    "    # create the algorithm that learns the weight for the network\n",
    "    optimizer = torch.optim.Adam(network.parameters(), lr=lr)\n",
    "\n",
    "    # create the loss function that tells optimizer how much error it has in its predictions\n",
    "    # here we use cross entropy since we have a classification task with more than two possible labels\n",
    "    loss_function = torch.nn.CrossEntropyLoss()\n",
    "\n",
    "    # train for 1000 epochs\n",
    "    num_epochs = 200\n",
    "    train_loss_values = []\n",
    "    # valid_loss_values = []\n",
    "    train_acc_values = []\n",
    "    # valid_acc_values = []\n",
    "    for epoch in tqdm.trange(num_epochs):\n",
    "        # make predictions on the training set and validation set\n",
    "        epoch_loss = 0\n",
    "        for X_vec, y_label in zip(train_X, train_y):\n",
    "            prediction = network(X_vec)\n",
    "            loss = loss_function(prediction, y_label)\n",
    "            epoch_loss += loss\n",
    "        # train_predictions = network(train_X)\n",
    "        # valid_predictions = network(valid_X)\n",
    "        # train_loss = loss_function(train_predictions, train_y)\n",
    "\n",
    "        # perform backpropagation\n",
    "        optimizer.zero_grad()\n",
    "        epoch_loss.backward()\n",
    "        optimizer.step()\n",
    "\n",
    "        epoch_loss = epoch_loss.item() / len(train_X)\n",
    "        # calculate the error on the training set\n",
    "        train_loss_values.append(epoch_loss)\n",
    "        # valid_loss_values.append(loss_function(valid_predictions, valid_y).item())\n",
    "        train_acc_values.append(calculate_accuracy(network, train_X, train_y))\n",
    "        # valid_acc = calculate_accuracy(network, valid_X, valid_y)\n",
    "        # valid_acc_values.append(valid_acc)\n",
    "\n",
    "        # # Early return for perfect fit\n",
    "        # if valid_acc == 1:\n",
    "        #     # convert the training progress data to a Pandas DataFrame\n",
    "        #     progress = {\n",
    "        #         \"epoch\": range(epoch+1),\n",
    "        #         \"train_loss\": train_loss_values,\n",
    "        #         # \"valid_loss\": valid_loss_values,\n",
    "        #         \"train_acc\": train_acc_values,\n",
    "        #         # \"valid_acc\": valid_acc_values\n",
    "        #     }\n",
    "        #     torch.save(network, nn_filepath)\n",
    "        #     return pandas.DataFrame(progress)\n",
    "\n",
    "\n",
    "    # convert the training progress data to a Pandas DataFrame\n",
    "    progress = {\n",
    "        \"epoch\": range(num_epochs),\n",
    "        \"train_loss\": train_loss_values,\n",
    "        # \"valid_loss\": valid_loss_values,\n",
    "        \"train_acc\": train_acc_values,\n",
    "        # \"valid_acc\": valid_acc_values\n",
    "    }\n",
    "    torch.save(network, nn_filepath)\n",
    "    progress = pandas.DataFrame(progress)\n",
    "    progress.to_csv('rnn_progress.csv')\n",
    "    return pandas.DataFrame(progress)\n"
   ],
   "id": "5481cd12534aab3f",
   "outputs": [],
   "execution_count": 50
  },
  {
   "metadata": {
    "ExecuteTime": {
     "end_time": "2024-12-17T18:38:35.361485Z",
     "start_time": "2024-12-17T18:38:34.306199Z"
    }
   },
   "cell_type": "code",
   "source": [
    "def process_dataset(dataset_filepath, input_size, seed=SEED, num_rows=DATASET_SIZE):\n",
    "    lines = trim_small_lines(dataset_filepath, input_size)\n",
    "    # We need to create a dataframe with the proper number of columns\n",
    "    # Get the first three tokens from every line and store them in front of each instance\n",
    "    dataframe_dict = {\n",
    "        'timesig': [],\n",
    "        'key': [],\n",
    "        'style': []\n",
    "    }\n",
    "\n",
    "    for i in range(input_size):\n",
    "        dataframe_dict[i] = []\n",
    "\n",
    "    for line in lines:\n",
    "        line = line.split(',')\n",
    "        timesig = int(line[0])\n",
    "        key = int(line[1])\n",
    "        style = int(line[2])\n",
    "        remainder = list(map(int, line[3:]))\n",
    "        for i in range(len(remainder) - input_size):\n",
    "            window = remainder[i:i+input_size]\n",
    "            dataframe_dict['timesig'].append(timesig)\n",
    "            dataframe_dict['key'].append(key)\n",
    "            dataframe_dict['style'].append(style)\n",
    "            for ind, token in enumerate(window):\n",
    "                dataframe_dict[ind].append(token)\n",
    "\n",
    "    return pandas.DataFrame(dataframe_dict).sample(frac=1, random_state=seed).head(num_rows)\n",
    "\n",
    "process_dataset(DATASET, INPUT_SIZE)"
   ],
   "id": "bd1e108aa75d8881",
   "outputs": [
    {
     "data": {
      "text/plain": [
       "        timesig  key  style    0    1    2    3   4\n",
       "119510        0    1    575   42   13    7   14  13\n",
       "31816        64    1    274  121   79   11   20   6\n",
       "898913        0  179    800    6    7  193    7  65\n",
       "295356      128  179    172   25    7  163   55  25\n",
       "531065      128    1    172   55  212   55    7   4\n",
       "...         ...  ...    ...  ...  ...  ...  ...  ..\n",
       "550391      128  179    172    5   25   56    6  23\n",
       "675837      128  179    725   35  182   35  187  35\n",
       "443776      128    1    172   50   66   50    7  99\n",
       "147338        0    1    442   23   60   20   13  61\n",
       "401116      128    1    172   45  104   45   48  45\n",
       "\n",
       "[20000 rows x 8 columns]"
      ],
      "text/html": [
       "<div>\n",
       "<style scoped>\n",
       "    .dataframe tbody tr th:only-of-type {\n",
       "        vertical-align: middle;\n",
       "    }\n",
       "\n",
       "    .dataframe tbody tr th {\n",
       "        vertical-align: top;\n",
       "    }\n",
       "\n",
       "    .dataframe thead th {\n",
       "        text-align: right;\n",
       "    }\n",
       "</style>\n",
       "<table border=\"1\" class=\"dataframe\">\n",
       "  <thead>\n",
       "    <tr style=\"text-align: right;\">\n",
       "      <th></th>\n",
       "      <th>timesig</th>\n",
       "      <th>key</th>\n",
       "      <th>style</th>\n",
       "      <th>0</th>\n",
       "      <th>1</th>\n",
       "      <th>2</th>\n",
       "      <th>3</th>\n",
       "      <th>4</th>\n",
       "    </tr>\n",
       "  </thead>\n",
       "  <tbody>\n",
       "    <tr>\n",
       "      <th>119510</th>\n",
       "      <td>0</td>\n",
       "      <td>1</td>\n",
       "      <td>575</td>\n",
       "      <td>42</td>\n",
       "      <td>13</td>\n",
       "      <td>7</td>\n",
       "      <td>14</td>\n",
       "      <td>13</td>\n",
       "    </tr>\n",
       "    <tr>\n",
       "      <th>31816</th>\n",
       "      <td>64</td>\n",
       "      <td>1</td>\n",
       "      <td>274</td>\n",
       "      <td>121</td>\n",
       "      <td>79</td>\n",
       "      <td>11</td>\n",
       "      <td>20</td>\n",
       "      <td>6</td>\n",
       "    </tr>\n",
       "    <tr>\n",
       "      <th>898913</th>\n",
       "      <td>0</td>\n",
       "      <td>179</td>\n",
       "      <td>800</td>\n",
       "      <td>6</td>\n",
       "      <td>7</td>\n",
       "      <td>193</td>\n",
       "      <td>7</td>\n",
       "      <td>65</td>\n",
       "    </tr>\n",
       "    <tr>\n",
       "      <th>295356</th>\n",
       "      <td>128</td>\n",
       "      <td>179</td>\n",
       "      <td>172</td>\n",
       "      <td>25</td>\n",
       "      <td>7</td>\n",
       "      <td>163</td>\n",
       "      <td>55</td>\n",
       "      <td>25</td>\n",
       "    </tr>\n",
       "    <tr>\n",
       "      <th>531065</th>\n",
       "      <td>128</td>\n",
       "      <td>1</td>\n",
       "      <td>172</td>\n",
       "      <td>55</td>\n",
       "      <td>212</td>\n",
       "      <td>55</td>\n",
       "      <td>7</td>\n",
       "      <td>4</td>\n",
       "    </tr>\n",
       "    <tr>\n",
       "      <th>...</th>\n",
       "      <td>...</td>\n",
       "      <td>...</td>\n",
       "      <td>...</td>\n",
       "      <td>...</td>\n",
       "      <td>...</td>\n",
       "      <td>...</td>\n",
       "      <td>...</td>\n",
       "      <td>...</td>\n",
       "    </tr>\n",
       "    <tr>\n",
       "      <th>550391</th>\n",
       "      <td>128</td>\n",
       "      <td>179</td>\n",
       "      <td>172</td>\n",
       "      <td>5</td>\n",
       "      <td>25</td>\n",
       "      <td>56</td>\n",
       "      <td>6</td>\n",
       "      <td>23</td>\n",
       "    </tr>\n",
       "    <tr>\n",
       "      <th>675837</th>\n",
       "      <td>128</td>\n",
       "      <td>179</td>\n",
       "      <td>725</td>\n",
       "      <td>35</td>\n",
       "      <td>182</td>\n",
       "      <td>35</td>\n",
       "      <td>187</td>\n",
       "      <td>35</td>\n",
       "    </tr>\n",
       "    <tr>\n",
       "      <th>443776</th>\n",
       "      <td>128</td>\n",
       "      <td>1</td>\n",
       "      <td>172</td>\n",
       "      <td>50</td>\n",
       "      <td>66</td>\n",
       "      <td>50</td>\n",
       "      <td>7</td>\n",
       "      <td>99</td>\n",
       "    </tr>\n",
       "    <tr>\n",
       "      <th>147338</th>\n",
       "      <td>0</td>\n",
       "      <td>1</td>\n",
       "      <td>442</td>\n",
       "      <td>23</td>\n",
       "      <td>60</td>\n",
       "      <td>20</td>\n",
       "      <td>13</td>\n",
       "      <td>61</td>\n",
       "    </tr>\n",
       "    <tr>\n",
       "      <th>401116</th>\n",
       "      <td>128</td>\n",
       "      <td>1</td>\n",
       "      <td>172</td>\n",
       "      <td>45</td>\n",
       "      <td>104</td>\n",
       "      <td>45</td>\n",
       "      <td>48</td>\n",
       "      <td>45</td>\n",
       "    </tr>\n",
       "  </tbody>\n",
       "</table>\n",
       "<p>20000 rows × 8 columns</p>\n",
       "</div>"
      ]
     },
     "execution_count": 9,
     "metadata": {},
     "output_type": "execute_result"
    }
   ],
   "execution_count": 9
  },
  {
   "metadata": {
    "ExecuteTime": {
     "end_time": "2024-12-17T19:40:31.134148Z",
     "start_time": "2024-12-17T19:40:29.698943Z"
    }
   },
   "cell_type": "code",
   "source": [
    "# Splits a dataset into training and test sets,\n",
    "def split_dataset(dataset, train_data_ratio, y_label, seed=SEED):\n",
    "    train_int = int(train_data_ratio * len(dataset))\n",
    "    training = dataset.iloc[:train_int]\n",
    "    test = dataset.iloc[train_int:]\n",
    "    training_y = training[y_label]\n",
    "    training_X = training.drop(columns=y_label)\n",
    "    test_y = test[y_label]\n",
    "    test_X = test.drop(columns=y_label)\n",
    "    return training_X, training_y, test_X, test_y\n",
    "\n",
    "dataset = process_dataset(DATASET, INPUT_SIZE)\n",
    "training_X, training_y, test_X, test_y = split_dataset(dataset, 0.9, 4, 0)\n",
    "training_X\n"
   ],
   "id": "96eef429c91e6259",
   "outputs": [
    {
     "data": {
      "text/plain": [
       "        timesig  key  style    0    1    2    3\n",
       "119510        0    1    575   42   13    7   14\n",
       "31816        64    1    274  121   79   11   20\n",
       "898913        0  179    800    6    7  193    7\n",
       "295356      128  179    172   25    7  163   55\n",
       "531065      128    1    172   55  212   55    7\n",
       "...         ...  ...    ...  ...  ...  ...  ...\n",
       "238271      128  179    172    7  187  298  185\n",
       "470286      128    1    172    3   23    3    7\n",
       "422177      128    1    172  150    5    3   15\n",
       "674376      128    1    725   26   26   28    7\n",
       "890828      128  179   1121  187   61  264  186\n",
       "\n",
       "[18000 rows x 7 columns]"
      ],
      "text/html": [
       "<div>\n",
       "<style scoped>\n",
       "    .dataframe tbody tr th:only-of-type {\n",
       "        vertical-align: middle;\n",
       "    }\n",
       "\n",
       "    .dataframe tbody tr th {\n",
       "        vertical-align: top;\n",
       "    }\n",
       "\n",
       "    .dataframe thead th {\n",
       "        text-align: right;\n",
       "    }\n",
       "</style>\n",
       "<table border=\"1\" class=\"dataframe\">\n",
       "  <thead>\n",
       "    <tr style=\"text-align: right;\">\n",
       "      <th></th>\n",
       "      <th>timesig</th>\n",
       "      <th>key</th>\n",
       "      <th>style</th>\n",
       "      <th>0</th>\n",
       "      <th>1</th>\n",
       "      <th>2</th>\n",
       "      <th>3</th>\n",
       "    </tr>\n",
       "  </thead>\n",
       "  <tbody>\n",
       "    <tr>\n",
       "      <th>119510</th>\n",
       "      <td>0</td>\n",
       "      <td>1</td>\n",
       "      <td>575</td>\n",
       "      <td>42</td>\n",
       "      <td>13</td>\n",
       "      <td>7</td>\n",
       "      <td>14</td>\n",
       "    </tr>\n",
       "    <tr>\n",
       "      <th>31816</th>\n",
       "      <td>64</td>\n",
       "      <td>1</td>\n",
       "      <td>274</td>\n",
       "      <td>121</td>\n",
       "      <td>79</td>\n",
       "      <td>11</td>\n",
       "      <td>20</td>\n",
       "    </tr>\n",
       "    <tr>\n",
       "      <th>898913</th>\n",
       "      <td>0</td>\n",
       "      <td>179</td>\n",
       "      <td>800</td>\n",
       "      <td>6</td>\n",
       "      <td>7</td>\n",
       "      <td>193</td>\n",
       "      <td>7</td>\n",
       "    </tr>\n",
       "    <tr>\n",
       "      <th>295356</th>\n",
       "      <td>128</td>\n",
       "      <td>179</td>\n",
       "      <td>172</td>\n",
       "      <td>25</td>\n",
       "      <td>7</td>\n",
       "      <td>163</td>\n",
       "      <td>55</td>\n",
       "    </tr>\n",
       "    <tr>\n",
       "      <th>531065</th>\n",
       "      <td>128</td>\n",
       "      <td>1</td>\n",
       "      <td>172</td>\n",
       "      <td>55</td>\n",
       "      <td>212</td>\n",
       "      <td>55</td>\n",
       "      <td>7</td>\n",
       "    </tr>\n",
       "    <tr>\n",
       "      <th>...</th>\n",
       "      <td>...</td>\n",
       "      <td>...</td>\n",
       "      <td>...</td>\n",
       "      <td>...</td>\n",
       "      <td>...</td>\n",
       "      <td>...</td>\n",
       "      <td>...</td>\n",
       "    </tr>\n",
       "    <tr>\n",
       "      <th>238271</th>\n",
       "      <td>128</td>\n",
       "      <td>179</td>\n",
       "      <td>172</td>\n",
       "      <td>7</td>\n",
       "      <td>187</td>\n",
       "      <td>298</td>\n",
       "      <td>185</td>\n",
       "    </tr>\n",
       "    <tr>\n",
       "      <th>470286</th>\n",
       "      <td>128</td>\n",
       "      <td>1</td>\n",
       "      <td>172</td>\n",
       "      <td>3</td>\n",
       "      <td>23</td>\n",
       "      <td>3</td>\n",
       "      <td>7</td>\n",
       "    </tr>\n",
       "    <tr>\n",
       "      <th>422177</th>\n",
       "      <td>128</td>\n",
       "      <td>1</td>\n",
       "      <td>172</td>\n",
       "      <td>150</td>\n",
       "      <td>5</td>\n",
       "      <td>3</td>\n",
       "      <td>15</td>\n",
       "    </tr>\n",
       "    <tr>\n",
       "      <th>674376</th>\n",
       "      <td>128</td>\n",
       "      <td>1</td>\n",
       "      <td>725</td>\n",
       "      <td>26</td>\n",
       "      <td>26</td>\n",
       "      <td>28</td>\n",
       "      <td>7</td>\n",
       "    </tr>\n",
       "    <tr>\n",
       "      <th>890828</th>\n",
       "      <td>128</td>\n",
       "      <td>179</td>\n",
       "      <td>1121</td>\n",
       "      <td>187</td>\n",
       "      <td>61</td>\n",
       "      <td>264</td>\n",
       "      <td>186</td>\n",
       "    </tr>\n",
       "  </tbody>\n",
       "</table>\n",
       "<p>18000 rows × 7 columns</p>\n",
       "</div>"
      ]
     },
     "execution_count": 38,
     "metadata": {},
     "output_type": "execute_result"
    }
   ],
   "execution_count": 38
  },
  {
   "metadata": {
    "ExecuteTime": {
     "end_time": "2024-12-17T18:38:36.441353Z",
     "start_time": "2024-12-17T18:38:36.439557Z"
    }
   },
   "cell_type": "code",
   "source": [
    "# Performs one-hot encoding on dataset AFTER process_dataset\n",
    "# Napkin estimates this would take 27 hours to run on swedish dataset\n",
    "def onehots(dataframe, n_tokens):\n",
    "    ret_frame = pandas.DataFrame()\n",
    "    for column_name, column in dataframe.items():\n",
    "        oh_dict = {}\n",
    "        for ix in range(n_tokens):\n",
    "            oh_dict[str(column_name) + '_' + str(ix)] = []\n",
    "        for item in column:\n",
    "            print(item)\n",
    "            for key, array in oh_dict.items():\n",
    "                if item == int(key.split('_')[1]):\n",
    "                    array.append(1)\n",
    "                else:\n",
    "                    array.append(0)\n",
    "        ret_frame = pandas.concat([ret_frame, pandas.DataFrame(oh_dict)], axis=1)\n",
    "    return ret_frame"
   ],
   "id": "4ab2da7d8a027e1a",
   "outputs": [],
   "execution_count": 11
  },
  {
   "metadata": {
    "ExecuteTime": {
     "end_time": "2024-12-17T20:06:07.972507Z",
     "start_time": "2024-12-17T20:01:55.132111Z"
    }
   },
   "cell_type": "code",
   "source": [
    "dataset = process_dataset(DATASET, INPUT_SIZE, num_rows=DATASET_SIZE)\n",
    "training_X, training_y, test_X, test_y = split_dataset(dataset, 0.9, 4, 0)\n",
    "rnn = PredictRNN(INPUT_SIZE+2, HIDDEN_NODES, NUM_LAYERS, num_tokens)\n",
    "results = train_network(rnn, training_X, training_y, LEARNING_RATE, 'trained_rnn.pt')\n",
    "test_X = torch.from_numpy(test_X.values).float().unsqueeze(0)\n",
    "test_y = torch.from_numpy(test_y.values).long()\n",
    "accuracy, up_bound, low_bound = calculate_accuracy(rnn, test_X, test_y)\n",
    "print(f\"Accuracy: {accuracy:.3f}\")\n",
    "print(f\"95% Confidence Interval: [{low_bound:.3f}, {up_bound:.3f}]\")\n"
   ],
   "id": "abc8ee6fdb12ed27",
   "outputs": [
    {
     "name": "stdout",
     "output_type": "stream",
     "text": [
      "Using device AMD Radeon RX 7900 XT\n"
     ]
    },
    {
     "name": "stderr",
     "output_type": "stream",
     "text": [
      "100%|██████████| 200/200 [04:11<00:00,  1.26s/it]"
     ]
    },
    {
     "name": "stdout",
     "output_type": "stream",
     "text": [
      "Accuracy: 0.016\n",
      "95% Confidence Interval: [0.009, 0.023]\n"
     ]
    },
    {
     "name": "stderr",
     "output_type": "stream",
     "text": [
      "\n"
     ]
    }
   ],
   "execution_count": 59
  },
  {
   "metadata": {
    "ExecuteTime": {
     "end_time": "2024-12-17T19:40:38.290368Z",
     "start_time": "2024-12-17T19:40:38.273230Z"
    }
   },
   "cell_type": "code",
   "source": [
    "dataset = process_dataset(DATASET, INPUT_SIZE)\n",
    "training_X, training_y, test_X, test_y = split_dataset(dataset, 0.9, 4, 0)\n",
    "rnn = torch.load('trained_rnn.pt')\n",
    "test_X = torch.from_numpy(test_X.values).float().unsqueeze(0)\n",
    "test_y = torch.from_numpy(test_y.values).long()\n",
    "accuracy, up_bound, low_bound = calculate_accuracy(rnn, test_X, test_y)\n",
    "print(f\"Accuracy: {accuracy:.3f}\")\n",
    "print(f\"95% Confidence Interval: [{low_bound:.3f}, {up_bound:.3f}]\")\n"
   ],
   "id": "f5a7b445a6f2ec6f",
   "outputs": [
    {
     "name": "stdout",
     "output_type": "stream",
     "text": [
      "Accuracy: 0.016\n",
      "95% Confidence Interval: [0.009, 0.023]\n"
     ]
    },
    {
     "name": "stderr",
     "output_type": "stream",
     "text": [
      "/tmp/ipykernel_10916/3255440893.py:1: FutureWarning: You are using `torch.load` with `weights_only=False` (the current default value), which uses the default pickle module implicitly. It is possible to construct malicious pickle data which will execute arbitrary code during unpickling (See https://github.com/pytorch/pytorch/blob/main/SECURITY.md#untrusted-models for more details). In a future release, the default value for `weights_only` will be flipped to `True`. This limits the functions that could be executed during unpickling. Arbitrary objects will no longer be allowed to be loaded via this mode unless they are explicitly allowlisted by the user via `torch.serialization.add_safe_globals`. We recommend you start setting `weights_only=True` for any use case where you don't have full control of the loaded file. Please open an issue on GitHub for any issues related to this experimental feature.\n",
      "  rnn = torch.load('trained_rnn.pt')\n"
     ]
    }
   ],
   "execution_count": 39
  },
  {
   "metadata": {
    "ExecuteTime": {
     "end_time": "2024-12-17T20:16:22.295314Z",
     "start_time": "2024-12-17T20:16:22.052127Z"
    }
   },
   "cell_type": "code",
   "source": [
    "results_frame = pandas.read_csv('rnn_progress.csv')\n",
    "\n",
    "plot = plotnine.ggplot(results_frame, plotnine.aes('epoch', 'train_loss')) + plotnine.geom_point()\n",
    "plot.show()"
   ],
   "id": "89c472f9e80e73b0",
   "outputs": [
    {
     "data": {
      "image/png": "[encoded data removed]"
     },
     "metadata": {
      "image/png": {
       "width": 640,
       "height": 480
      }
     },
     "output_type": "display_data"
    }
   ],
   "execution_count": 66
  }
 ],
 "metadata": {
  "kernelspec": {
   "name": "python3",
   "language": "python",
   "display_name": "Python 3 (ipykernel)"
  }
 },
 "nbformat": 5,
 "nbformat_minor": 9
}
